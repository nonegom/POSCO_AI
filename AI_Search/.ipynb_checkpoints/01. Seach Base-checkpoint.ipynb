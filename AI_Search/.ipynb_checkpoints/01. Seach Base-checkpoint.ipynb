{
 "cells": [
  {
   "cell_type": "markdown",
   "metadata": {},
   "source": [
    "### Search Problem\n",
    "\n",
    "- $S_start$: 시작상태\n",
    "- $Action(s)$: s에서 취할 수 있는 모든 action\n",
    "- $Cost(s, a)$: s에서 a를 취하는 cost(비용)\n",
    "- $Succ(s, a)$: s에서 a를 취했을 때 다음 상태\n",
    "- $IsEnd(s)$: s의 종료 조건 만족 여부"
   ]
  },
  {
   "cell_type": "markdown",
   "metadata": {},
   "source": [
    "## 현실의 문제를 정의\n",
    "\n",
    "- Graph\n",
    "- Transportation\n",
    "- NumberLineSearchProblem"
   ]
  },
  {
   "cell_type": "markdown",
   "metadata": {},
   "source": [
    "## 알고리즘\n",
    "- Uinform Cost Search\n",
    "- Backtracking Search\n",
    "- Dynamic Programming"
   ]
  },
  {
   "cell_type": "markdown",
   "metadata": {},
   "source": [
    "## Uniform Cpst Search(UCS)의 목적\n",
    "- cost가 낮은 것부터 고려한다\n",
    "- 모든 Action의 비용이 음수가 아니면, 현재까지 찾은 solution에서 action을 취했을 때, 그 solution의 값을 낮출 수 있는 값은 없다."
   ]
  },
  {
   "cell_type": "markdown",
   "metadata": {},
   "source": [
    "## Search 알고리즘 비교\n",
    "- Greedy SEarch: 최적 솔루션 보장 X\n",
    "- Back-Tracking Search: 최적 솔루션 보장 O\n",
    "- Dynamic Programming: 최적 솔루션 보장 O\n",
    "    - 모든 솔루션을 탐색하지만 동일한 연산을 반복하는 문제 해결\n",
    "- Uniform Cost Search: 최적 솔루션 보장 O\n",
    "    - 어떤 상태를 먼저 볼 지 잘 결정\n",
    "    - 결과적으로 할 필요가 없는 탐색은하지 않음"
   ]
  },
  {
   "cell_type": "code",
   "execution_count": null,
   "metadata": {},
   "outputs": [],
   "source": []
  },
  {
   "cell_type": "code",
   "execution_count": null,
   "metadata": {},
   "outputs": [],
   "source": []
  }
 ],
 "metadata": {
  "kernelspec": {
   "display_name": "Python 3",
   "language": "python",
   "name": "python3"
  },
  "language_info": {
   "codemirror_mode": {
    "name": "ipython",
    "version": 3
   },
   "file_extension": ".py",
   "mimetype": "text/x-python",
   "name": "python",
   "nbconvert_exporter": "python",
   "pygments_lexer": "ipython3",
   "version": "3.8.5"
  }
 },
 "nbformat": 4,
 "nbformat_minor": 4
}
