{
 "cells": [
  {
   "cell_type": "code",
   "execution_count": 1,
   "metadata": {},
   "outputs": [],
   "source": [
    "import torch\n",
    "import torch.nn"
   ]
  },
  {
   "cell_type": "code",
   "execution_count": 2,
   "metadata": {},
   "outputs": [],
   "source": [
    "vocab = {\n",
    "    '청년': 0,\n",
    "    'AI': 1,\n",
    "    'BIGDATA': 2,\n",
    "    'NLP': 3,\n",
    "    '인공지능': 4,\n",
    "    'embedding': 5,\n",
    "    '실습': 6\n",
    "}"
   ]
  },
  {
   "cell_type": "code",
   "execution_count": 11,
   "metadata": {},
   "outputs": [
    {
     "name": "stdout",
     "output_type": "stream",
     "text": [
      "Embedding(7, 10)\n",
      "Parameter containing:\n",
      "tensor([[ 0.6662,  0.1583, -1.0503, -1.2770,  0.8843,  0.4643, -1.0688, -1.2754,\n",
      "          0.6175,  1.5807],\n",
      "        [ 0.5054, -0.7960,  0.3766, -0.3404,  0.5075,  0.3794, -2.0475,  0.9155,\n",
      "          0.2691, -0.6613],\n",
      "        [ 0.9446,  0.4654, -0.1348, -0.4084,  1.6184,  1.6744,  2.6926,  0.9127,\n",
      "          0.1356, -0.8575],\n",
      "        [ 1.0828, -1.7191, -0.8193,  1.2469,  0.7233,  0.4136, -0.1348, -1.8555,\n",
      "         -1.1476,  0.3375],\n",
      "        [ 0.0156,  0.5725, -0.7649,  1.2877, -0.3018,  0.4157,  2.0100, -0.0969,\n",
      "          0.1088,  1.0318],\n",
      "        [-0.0376,  0.0874, -1.8566,  0.4897,  1.1959, -0.4124,  0.1598,  0.0470,\n",
      "         -0.3191,  1.0773],\n",
      "        [-0.7910,  2.1575, -1.0293, -0.6560, -0.2628, -1.7292,  0.0205, -1.9438,\n",
      "         -1.8508,  0.1405]], requires_grad=True)\n"
     ]
    }
   ],
   "source": [
    "dim=10\n",
    "emb_mtx = torch.nn.Embedding(len(vocab), dim)\n",
    "\n",
    "print(emb_mtx)\n",
    "print(emb_mtx.weight)"
   ]
  },
  {
   "cell_type": "code",
   "execution_count": 19,
   "metadata": {},
   "outputs": [
    {
     "name": "stdout",
     "output_type": "stream",
     "text": [
      "tensor([0])\n"
     ]
    },
    {
     "data": {
      "text/plain": [
       "tensor([[ 0.6662,  0.1583, -1.0503, -1.2770,  0.8843,  0.4643, -1.0688, -1.2754,\n",
       "          0.6175,  1.5807]], grad_fn=<EmbeddingBackward>)"
      ]
     },
     "execution_count": 19,
     "metadata": {},
     "output_type": "execute_result"
    }
   ],
   "source": [
    "## Practice 1 ##\n",
    "\n",
    "# print word embedding of '청년'\n",
    "idx = torch.tensor([vocab[\"청년\"]], dtype=torch.long)\n",
    "# make index tensor for '청년'\n",
    "print(idx)\n",
    "emb_mtx(idx) # feed index tensor to emb_mtx"
   ]
  },
  {
   "cell_type": "code",
   "execution_count": 20,
   "metadata": {},
   "outputs": [
    {
     "name": "stdout",
     "output_type": "stream",
     "text": [
      "tensor([0, 1, 2]) torch.Size([3])\n",
      "\n",
      "tensor([[ 0.6662,  0.1583, -1.0503, -1.2770,  0.8843,  0.4643, -1.0688, -1.2754,\n",
      "          0.6175,  1.5807],\n",
      "        [ 0.5054, -0.7960,  0.3766, -0.3404,  0.5075,  0.3794, -2.0475,  0.9155,\n",
      "          0.2691, -0.6613],\n",
      "        [ 0.9446,  0.4654, -0.1348, -0.4084,  1.6184,  1.6744,  2.6926,  0.9127,\n",
      "          0.1356, -0.8575]], grad_fn=<EmbeddingBackward>) torch.Size([3, 10])\n"
     ]
    }
   ],
   "source": [
    "## Practice 2 ##\n",
    "\n",
    "# print word embeddings for a given sentence: \"청년 AI BIGDATA\"\n",
    "sent = ['청년', 'AI', 'BIGDATA']\n",
    "idxs = []\n",
    "for word in sent:\n",
    "    idx = vocab[word]\n",
    "    idxs.append(idx) # append idx to idxs\n",
    "\n",
    "idxs = torch.tensor(idxs, dtype=torch.long) # convert index list to tensor\n",
    "print(idxs, idxs.size())\n",
    "print('')\n",
    "\n",
    "emb = emb_mtx(idxs)# convert idxs into word embedding\n",
    "print(emb, emb.size())"
   ]
  },
  {
   "cell_type": "code",
   "execution_count": 25,
   "metadata": {},
   "outputs": [
    {
     "name": "stdout",
     "output_type": "stream",
     "text": [
      "# batch가 2개, 문장의 길이가 3개\n",
      "tensor([[0, 1, 2],\n",
      "        [3, 5, 6]]) torch.Size([2, 3])\n",
      "\n",
      "2x3행렬이 들어오기 때문에 총 3차원의 벡터가 된다\n",
      "tensor([[[ 0.6662,  0.1583, -1.0503, -1.2770,  0.8843,  0.4643, -1.0688,\n",
      "          -1.2754,  0.6175,  1.5807],\n",
      "         [ 0.5054, -0.7960,  0.3766, -0.3404,  0.5075,  0.3794, -2.0475,\n",
      "           0.9155,  0.2691, -0.6613],\n",
      "         [ 0.9446,  0.4654, -0.1348, -0.4084,  1.6184,  1.6744,  2.6926,\n",
      "           0.9127,  0.1356, -0.8575]],\n",
      "\n",
      "        [[ 1.0828, -1.7191, -0.8193,  1.2469,  0.7233,  0.4136, -0.1348,\n",
      "          -1.8555, -1.1476,  0.3375],\n",
      "         [-0.0376,  0.0874, -1.8566,  0.4897,  1.1959, -0.4124,  0.1598,\n",
      "           0.0470, -0.3191,  1.0773],\n",
      "         [-0.7910,  2.1575, -1.0293, -0.6560, -0.2628, -1.7292,  0.0205,\n",
      "          -1.9438, -1.8508,  0.1405]]], grad_fn=<EmbeddingBackward>) torch.Size([2, 3, 10])\n"
     ]
    }
   ],
   "source": [
    "## Practice 03 ##\n",
    "# construct batch level word embeddings: [\"청년 AI BIGDATA\", \"NLP embedding 실습\"]\n",
    "sents = [['청년', 'AI', 'BIGDATA'],\n",
    "         ['NLP', 'embedding', '실습']]\n",
    "batch_idxs = []\n",
    "for sent in sents:\n",
    "    idxs = []\n",
    "    for word in sent:\n",
    "        idx = idx = vocab[word] # convert word into index\n",
    "        idxs.append(idx)  # append idx to idxs\n",
    "    batch_idxs.append(idxs) # append idxs to batch idx\n",
    "\n",
    "batch_idxs = torch.tensor(batch_idxs, dtype=torch.long) # convert batch idx to tensor\n",
    "print(\"# batch가 2개, 문장의 길이가 3개\")\n",
    "print(batch_idxs, batch_idxs.size()) \n",
    "print('')\n",
    "\n",
    "print(\"2x3행렬이 들어오기 때문에 총 3차원의 벡터가 된다\")\n",
    "emb = emb_mtx(batch_idxs)# convert idxs into word embedding\n",
    "print(emb, emb.size())"
   ]
  },
  {
   "cell_type": "code",
   "execution_count": null,
   "metadata": {},
   "outputs": [],
   "source": []
  }
 ],
 "metadata": {
  "kernelspec": {
   "display_name": "AIBD",
   "language": "python",
   "name": "aibd"
  },
  "language_info": {
   "codemirror_mode": {
    "name": "ipython",
    "version": 3
   },
   "file_extension": ".py",
   "mimetype": "text/x-python",
   "name": "python",
   "nbconvert_exporter": "python",
   "pygments_lexer": "ipython3",
   "version": "3.8.8"
  }
 },
 "nbformat": 4,
 "nbformat_minor": 4
}
