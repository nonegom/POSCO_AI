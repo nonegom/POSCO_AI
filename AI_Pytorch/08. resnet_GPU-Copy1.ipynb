{
 "cells": [
  {
   "cell_type": "code",
   "execution_count": 1,
   "metadata": {
    "_cell_guid": "b1076dfc-b9ad-4769-8c92-a6c4dae69d19",
    "_uuid": "8f2839f25d086af736a60e9eeb907d3b93b6e0e5",
    "scrolled": true
   },
   "outputs": [
    {
     "name": "stdout",
     "output_type": "stream",
     "text": [
      "/home/piai/AI_Pytorch/posco-aibd/test.csv\n",
      "/home/piai/AI_Pytorch/posco-aibd/train.csv\n"
     ]
    }
   ],
   "source": [
    "import os\n",
    "for dirname, _, filenames in os.walk('/home/piai/AI_Pytorch/posco-aibd/'):\n",
    "    for filename in filenames:\n",
    "        print(os.path.join(dirname, filename))"
   ]
  },
  {
   "cell_type": "code",
   "execution_count": 2,
   "metadata": {},
   "outputs": [],
   "source": [
    "# ============================== Do not edit this shell ==========================================\n",
    "\n",
    "# Dataset Definition\n",
    "\n",
    "import csv\n",
    "import numpy as np\n",
    "import pandas as pd\n",
    "import torch\n",
    "from PIL import Image\n",
    "from torchvision.transforms import ToTensor\n",
    "from torch.utils.data import Dataset\n",
    "\n",
    "class CharDataset(Dataset):\n",
    "    def __init__(self, root, train, transform=None):\n",
    "        self.train = train\n",
    "        if self.train:\n",
    "            root = root + 'train.csv'\n",
    "        else:\n",
    "            root = root + 'test.csv'\n",
    "        self.csv = pd.read_csv(root, header=None)\n",
    "        self.transform = transform\n",
    "        \n",
    "    def __len__(self):\n",
    "        return len(self.csv)\n",
    "    \n",
    "    def __getitem__(self, index):\n",
    "        if self.train:\n",
    "            label = torch.tensor(self.csv.iloc[index,0], dtype=torch.long)\n",
    "            img = np.array(self.csv.iloc[index,1:]/255).reshape(28, 28)\n",
    "            img = Image.fromarray(img)\n",
    "            if self.transform:\n",
    "                img = self.transform(img)\n",
    "            return img, label\n",
    "        else:\n",
    "            img = np.array(self.csv.loc[index]/255).reshape(28, 28)\n",
    "            img = Image.fromarray(img)\n",
    "            if self.transform:\n",
    "                img = self.transform(img)\n",
    "            return img\n",
    "        \n",
    "# ============================== Do not edit this shell =========================================="
   ]
  },
  {
   "cell_type": "code",
   "execution_count": 10,
   "metadata": {},
   "outputs": [
    {
     "name": "stdout",
     "output_type": "stream",
     "text": [
      "GPU will be used in training/validation.\n"
     ]
    }
   ],
   "source": [
    "# Library Importation\n",
    "import gc\n",
    "import matplotlib.pyplot as plt\n",
    "import numpy as np\n",
    "import time\n",
    "import torch\n",
    "import torch.nn as nn\n",
    "import torch.nn.functional as F\n",
    "import torchvision.transforms as transforms\n",
    "\n",
    "from IPython.display import clear_output\n",
    "from skimage.transform import resize as OVResize\n",
    "from torch.cuda import memory_allocated, empty_cache\n",
    "from torch.optim import Adam, SGD\n",
    "from torch.utils.data import DataLoader, random_split\n",
    "from torchvision import models\n",
    "from torchsummary import summary as Summary\n",
    "from torchvision.transforms import Compose, ToTensor, Normalize, RandomCrop, RandomHorizontalFlip, \\\n",
    "                                   ToPILImage, Resize, Grayscale\n",
    "\n",
    "\n",
    "# Hyper Parameter\n",
    "## Data Loader\n",
    "batch_size = 32\n",
    "\n",
    "# ## Model\n",
    "# hidden_layer = 300\n",
    "\n",
    "## Learning\n",
    "logging_dispfig = True\n",
    "maximum_epoch = 30\n",
    "learning_rate = 0.001\n",
    "\n",
    "# Device Preparation\n",
    "device = torch.device(\"cuda:0\" if torch.cuda.is_available() else \"cpu\")\n",
    "print(f'{\"CPU\" if device == \"cpu\" else \"GPU\"} will be used in training/validation.')"
   ]
  },
  {
   "cell_type": "code",
   "execution_count": 4,
   "metadata": {},
   "outputs": [],
   "source": [
    "input_transform = transforms.Compose([\n",
    "  Resize(224),\n",
    "  ToTensor(),\n",
    "])"
   ]
  },
  {
   "cell_type": "code",
   "execution_count": 4,
   "metadata": {},
   "outputs": [
    {
     "name": "stdout",
     "output_type": "stream",
     "text": [
      "===================== Check the data =========================\n",
      "\n",
      "Train dataset length = 13481\n",
      "Valid dataset length = 1498\n",
      "Test dataset length = 3745\n",
      "\n",
      "Content of Y (Label, type=<class 'torch.Tensor'>) = 6\n",
      "Shape of X (Data, type=<class 'torch.Tensor'>) = torch.Size([1, 28, 28])\n"
     ]
    },
    {
     "name": "stderr",
     "output_type": "stream",
     "text": [
      "/home/piai/anaconda3/envs/AIBD/lib/python3.8/site-packages/torchvision/transforms/functional.py:132: UserWarning: The given NumPy array is not writeable, and PyTorch does not support non-writeable tensors. This means you can write to the underlying (supposedly non-writeable) NumPy array using the tensor. You may want to copy the array to protect its data or make it writeable before converting it to a tensor. This type of warning will be suppressed for the rest of this program. (Triggered internally at  /opt/conda/conda-bld/pytorch_1614378062065/work/torch/csrc/utils/tensor_numpy.cpp:143.)\n",
      "  img = torch.from_numpy(np.array(pic, np.float32, copy=False))\n"
     ]
    },
    {
     "data": {
      "image/png": "[encoded data removed]",
      "text/plain": [
       "<Figure size 432x288 with 1 Axes>"
      ]
     },
     "metadata": {
      "needs_background": "light"
     },
     "output_type": "display_data"
    },
    {
     "name": "stdout",
     "output_type": "stream",
     "text": [
      "================== Check the data loader ======================\n",
      "\n",
      "Idx: 0 / X.shape = torch.Size([32, 1, 28, 28]) / Y.shape = torch.Size([32])\n",
      "\n",
      "Y[0:32] = tensor([8, 2, 2, 4, 7, 8, 7, 4, 0, 6, 1, 1, 2, 1, 9, 5, 1, 0, 3, 5, 9, 0, 1, 0,\n",
      "        0, 5, 3, 1, 1, 5, 6, 5])\n"
     ]
    }
   ],
   "source": [
    "# Prepare dataset\n",
    "root = '/home/piai/AI_Pytorch/posco-aibd/'\n",
    "train_data = CharDataset(root, train=True, transform=ToTensor())\n",
    "train_data, valid_data = random_split(train_data, [round(len(train_data)*0.9), round(len(train_data)*0.1)])\n",
    "test_data = CharDataset(root, train=False, transform=ToTensor())\n",
    "\n",
    "# Check the data\n",
    "print('===================== Check the data =========================\\n')\n",
    "print(f'Train dataset length = {len(train_data)}')\n",
    "print(f'Valid dataset length = {len(valid_data)}')\n",
    "print(f'Test dataset length = {len(test_data)}\\n')\n",
    "\n",
    "train_0_x, train_0_y = train_data[0]\n",
    "print(f'Content of Y (Label, type={type(train_0_y)}) = {train_0_y}')\n",
    "print(f'Shape of X (Data, type={type(train_0_x)}) = {train_0_x.shape}')\n",
    "plt.figure(1)\n",
    "plt.imshow(train_0_x.squeeze())\n",
    "plt.title(f'train_0_x ({train_0_x.squeeze().shape})')\n",
    "plt.show()\n",
    "\n",
    "# Create data loader\n",
    "train_loader = DataLoader(train_data, batch_size=batch_size, shuffle=True, pin_memory=True,\n",
    "                          drop_last=True)\n",
    "valid_loader = DataLoader(valid_data, batch_size=len(valid_data), pin_memory=True)\n",
    "test_loader = DataLoader(test_data, batch_size=len(test_data), pin_memory=True)\n",
    "\n",
    "# Examine the data loader\n",
    "print('================== Check the data loader ======================\\n')\n",
    "train_enumerator = enumerate(train_loader)\n",
    "ex_batch_idx, (ex_data, ex_label) = next(train_enumerator)\n",
    "print(f'Idx: {ex_batch_idx} / X.shape = {ex_data.shape} / Y.shape = {ex_label.shape}\\n')\n",
    "print(f'Y[0:{batch_size}] = {ex_label}')\n",
    "preview_index = 0"
   ]
  },
  {
   "cell_type": "markdown",
   "metadata": {},
   "source": [
    "### ResNet 구현"
   ]
  },
  {
   "cell_type": "markdown",
   "metadata": {},
   "source": [
    "def init_model():\n",
    "    global net, loss_fn, optim\n",
    "    net = ResNet()\n",
    "    if torch.cuda.device_count() > 1:\n",
    "        net = nn.DataParallel(net)\n",
    "    net.to(device)\n",
    "    loss_fn = nn.CrossEntropyLoss()\n",
    "    optim = Adam(net.parameters(), lr=learning_rate)"
   ]
  },
  {
   "cell_type": "code",
   "execution_count": 5,
   "metadata": {},
   "outputs": [],
   "source": [
    "def set_parameter_requires_grad(model, feature_extracting):\n",
    "    if feature_extracting:\n",
    "        for param in model.parameters():\n",
    "            param.requires_grad = False\n",
    "            \n",
    "def init_model(model_name, num_classes, feature_extract, use_pretrained=True):\n",
    "    global net, loss_fn, optim\n",
    "    \n",
    "    # get CNN model from PyTorch Model Zoo\n",
    "    if model_name == \"resnet\":\n",
    "        \"\"\" Resnet18\n",
    "        \"\"\"\n",
    "        # pretrained에 True가 들어오면 이전에 학습했던 필터들을 가져온다. 그 말은 freeze시키겠다는 뜻이다. \n",
    "        net = models.resnet18(pretrained=use_pretrained)\n",
    "        net.conv1 = nn.Conv2d(1, 64, kernel_size=(7, 7), stride=(2, 2), padding=(3, 3), bias=False)\n",
    "        set_parameter_requires_grad(net, feature_extract)\n",
    "        \n",
    "        # Parameters of newly constructed modules have requires_grad=True by default\n",
    "        num_ftrs = net.fc.in_features\n",
    "        net.fc = nn.Linear(num_ftrs, num_classes)\n",
    "        input_size = 224\n",
    "        \n",
    "    net = net.to(device)\n",
    "    loss_fn = nn.CrossEntropyLoss()\n",
    "    optim = Adam(net.parameters(), lr=learning_rate)\n",
    "# Summary(ResNet().to(device), (1, 28, 28))"
   ]
  },
  {
   "cell_type": "code",
   "execution_count": 6,
   "metadata": {},
   "outputs": [],
   "source": [
    "# Memory cleaner to prevent CUDA out of memory error\n",
    "def clear_memory():\n",
    "    if device != 'cpu':\n",
    "        empty_cache()\n",
    "    gc.collect()\n",
    "\n",
    "def init_epoch():\n",
    "  global epoch_cnt\n",
    "  epoch_cnt = 0\n",
    "\n",
    "# Epoch (similar to day 2)\n",
    "\n",
    "  \n",
    "def epoch(data_loader):\n",
    "  # One epoch : gets data_loader as input and returns loss / accuracy, and\n",
    "  #             last prediction value / its label(truth) value for future use\n",
    "  global epoch_cnt\n",
    "  iter_loss, iter_acc = [], []\n",
    "  \n",
    "  last_grad_performed = False\n",
    "  \n",
    "  # Mini-batch iterations\n",
    "  for _data, _label in data_loader:\n",
    "    data, label = _data.to(device), _label.to(device)\n",
    "    \n",
    "    # 1. Feed-forward\n",
    "    onehot_out = net(data)\n",
    "    \n",
    "    # 2. Calculate accuracy\n",
    "    _, out = torch.max(onehot_out, 1)\n",
    "    acc_partial = (out == label).float().sum()\n",
    "    acc_partial = acc_partial / len(label)\n",
    "    iter_acc.append(acc_partial.item())\n",
    "    \n",
    "    # 3. Calculate loss\n",
    "    loss = loss_fn(onehot_out, label)\n",
    "    iter_loss.append(loss.item())\n",
    "    \n",
    "    # 4. Backward propagation if not in `torch.no_grad()`\n",
    "    if onehot_out.requires_grad:\n",
    "      optim.zero_grad()\n",
    "      loss.backward()\n",
    "      optim.step()\n",
    "      last_grad_performed = True\n",
    "      \n",
    "  # Up epoch count if backward propagation is done\n",
    "  if last_grad_performed:\n",
    "    epoch_cnt += 1\n",
    "    \n",
    "  # Clear memory to prevent CUDA memory error\n",
    "  clear_memory()\n",
    "    \n",
    "  return np.average(iter_loss), np.average(iter_acc)\n",
    "\n",
    "\n",
    "def epoch_not_finished():\n",
    "  # For now, let's repeat training fixed times, e.g. 25 times.\n",
    "  # We will learn how to determine training stop or continue later.\n",
    "  return epoch_cnt < maximum_epoch\n",
    "\n",
    "# Logging\n",
    "def init_log():\n",
    "    global log_stack, iter_log, tloss_log, tacc_log, vloss_log, vacc_log, time_log\n",
    "    iter_log, tloss_log, tacc_log, vloss_log, vacc_log = [], [], [], [], []\n",
    "    time_log, log_stack = [], []\n",
    "  \n",
    "  \n",
    "def record_train_log(_tloss, _tacc, _time):\n",
    "    # Push time, training loss, training accuracy, and epoch count into lists\n",
    "    time_log.append(_time)\n",
    "    tloss_log.append(_tloss)\n",
    "    tacc_log.append(_tacc)\n",
    "    iter_log.append(epoch_cnt)\n",
    "  \n",
    "  \n",
    "def record_valid_log(_vloss, _vacc):\n",
    "    # Push validation loss and validation accuracy into each list\n",
    "    vloss_log.append(_vloss)\n",
    "    vacc_log.append(_vacc)\n",
    "\n",
    "    \n",
    "def last(log_list):\n",
    "    # Get the last member of list. If empty, return -1.\n",
    "    if len(log_list) > 0: return log_list[len(log_list) - 1]\n",
    "    else: return -1\n",
    "\n",
    "\n",
    "def print_log():\n",
    "    # Generate log string and put it into log stack\n",
    "    log_str = f'Iter: {last(iter_log):>4d} >> T_loss {last(tloss_log):<8.5f}   ' \\\n",
    "          + f'T_acc {last(tacc_log):<6.5f}   V_loss {last(vloss_log):<8.5f}   ' \\\n",
    "          + f'V_acc {last(vacc_log):<6.5f}   🕒 {last(time_log):5.3f}s'\n",
    "    log_stack.append(log_str)\n",
    "  \n",
    "  # Draw figure if want\n",
    "    if logging_dispfig:\n",
    "        hist_fig, loss_axis = plt.subplots(figsize=(10, 3), dpi=99)\n",
    "        hist_fig.patch.set_facecolor('white')\n",
    "\n",
    "        # Draw loss lines\n",
    "        loss_t_line = plt.plot(iter_log, tloss_log, label='Train Loss', color='#FF9999', marker='o')\n",
    "        loss_v_line = plt.plot(iter_log, vloss_log, label='Valid Loss', color='#99B0FF', marker='s')\n",
    "        loss_axis.set_xlabel('epoch')\n",
    "        loss_axis.set_ylabel('loss')\n",
    "\n",
    "        # Draw accuracy lines\n",
    "        acc_axis = loss_axis.twinx()\n",
    "        acc_t_line = acc_axis.plot(iter_log, tacc_log, label='Train Acc.', color='#FF0000', marker='+')\n",
    "        acc_v_line = acc_axis.plot(iter_log, vacc_log, label='Valid Acc.', color='#003AFF', marker='x')\n",
    "        acc_axis.set_ylabel('accuracy')\n",
    "\n",
    "        # Append annotations\n",
    "        hist_lines = loss_t_line + loss_v_line + acc_t_line + acc_v_line\n",
    "        loss_axis.legend(hist_lines, [l.get_label() for l in hist_lines])\n",
    "        loss_axis.grid()\n",
    "        plt.title(f'Learning history until epoch {last(iter_log)}')\n",
    "        plt.draw()\n",
    "    \n",
    "  # Print log\n",
    "    clear_output(wait=True)\n",
    "    if logging_dispfig: plt.show()\n",
    "    for idx in reversed(range(len(log_stack))):\n",
    "        print(log_stack[idx])"
   ]
  },
  {
   "cell_type": "code",
   "execution_count": 7,
   "metadata": {},
   "outputs": [
    {
     "data": {
      "image/png": "[encoded data removed]",
      "text/plain": [
       "<Figure size 990x297 with 2 Axes>"
      ]
     },
     "metadata": {},
     "output_type": "display_data"
    },
    {
     "name": "stdout",
     "output_type": "stream",
     "text": [
      "Iter:   30 >> T_loss 0.03895    T_acc 0.98894   V_loss 0.42911    V_acc 0.91122   🕒 15.270s\n",
      "Iter:   29 >> T_loss 0.03864    T_acc 0.98983   V_loss 0.41075    V_acc 0.91055   🕒 15.242s\n",
      "Iter:   28 >> T_loss 0.04157    T_acc 0.98924   V_loss 0.41307    V_acc 0.90921   🕒 15.253s\n",
      "Iter:   27 >> T_loss 0.04334    T_acc 0.98805   V_loss 0.40849    V_acc 0.90521   🕒 15.224s\n",
      "Iter:   26 >> T_loss 0.05218    T_acc 0.98493   V_loss 0.41054    V_acc 0.90921   🕒 15.267s\n",
      "Iter:   25 >> T_loss 0.05334    T_acc 0.98389   V_loss 0.39020    V_acc 0.90788   🕒 15.245s\n",
      "Iter:   24 >> T_loss 0.05436    T_acc 0.98456   V_loss 0.37877    V_acc 0.90988   🕒 15.235s\n",
      "Iter:   23 >> T_loss 0.06143    T_acc 0.98181   V_loss 0.38307    V_acc 0.90988   🕒 15.146s\n",
      "Iter:   22 >> T_loss 0.07101    T_acc 0.97885   V_loss 0.37879    V_acc 0.90654   🕒 15.191s\n",
      "Iter:   21 >> T_loss 0.07358    T_acc 0.97944   V_loss 0.36896    V_acc 0.91255   🕒 15.210s\n",
      "Iter:   20 >> T_loss 0.08417    T_acc 0.97484   V_loss 0.37469    V_acc 0.90721   🕒 15.307s\n",
      "Iter:   19 >> T_loss 0.09232    T_acc 0.97202   V_loss 0.35614    V_acc 0.91188   🕒 15.182s\n",
      "Iter:   18 >> T_loss 0.10457    T_acc 0.96875   V_loss 0.36025    V_acc 0.90521   🕒 15.189s\n",
      "Iter:   17 >> T_loss 0.11616    T_acc 0.96541   V_loss 0.35067    V_acc 0.90988   🕒 15.109s\n",
      "Iter:   16 >> T_loss 0.12610    T_acc 0.96110   V_loss 0.34827    V_acc 0.90788   🕒 15.202s\n",
      "Iter:   15 >> T_loss 0.14141    T_acc 0.95576   V_loss 0.35088    V_acc 0.90387   🕒 15.340s\n",
      "Iter:   14 >> T_loss 0.16540    T_acc 0.94908   V_loss 0.34692    V_acc 0.90254   🕒 15.226s\n",
      "Iter:   13 >> T_loss 0.17970    T_acc 0.94492   V_loss 0.35013    V_acc 0.90187   🕒 15.205s\n",
      "Iter:   12 >> T_loss 0.20483    T_acc 0.93616   V_loss 0.34720    V_acc 0.89720   🕒 15.227s\n",
      "Iter:   11 >> T_loss 0.22841    T_acc 0.92770   V_loss 0.34993    V_acc 0.89519   🕒 15.255s\n",
      "Iter:   10 >> T_loss 0.25038    T_acc 0.92310   V_loss 0.35809    V_acc 0.89186   🕒 15.126s\n",
      "Iter:    9 >> T_loss 0.28212    T_acc 0.91182   V_loss 0.36704    V_acc 0.88652   🕒 15.194s\n",
      "Iter:    8 >> T_loss 0.31575    T_acc 0.90113   V_loss 0.38077    V_acc 0.88385   🕒 15.256s\n",
      "Iter:    7 >> T_loss 0.35449    T_acc 0.88895   V_loss 0.38935    V_acc 0.88251   🕒 15.179s\n",
      "Iter:    6 >> T_loss 0.40039    T_acc 0.87285   V_loss 0.41185    V_acc 0.87650   🕒 15.244s\n",
      "Iter:    5 >> T_loss 0.45463    T_acc 0.85793   V_loss 0.45082    V_acc 0.86115   🕒 15.255s\n",
      "Iter:    4 >> T_loss 0.53408    T_acc 0.83447   V_loss 0.49720    V_acc 0.85180   🕒 15.246s\n",
      "Iter:    3 >> T_loss 0.65178    T_acc 0.80189   V_loss 0.56720    V_acc 0.83244   🕒 15.273s\n",
      "Iter:    2 >> T_loss 0.90995    T_acc 0.72105   V_loss 0.71342    V_acc 0.78705   🕒 14.667s\n",
      "Iter:    1 >> T_loss 1.71377    T_acc 0.43743   V_loss 1.09826    V_acc 0.68425   🕒 15.613s\n",
      "\n",
      " Training completed!\n"
     ]
    }
   ],
   "source": [
    "# Training Initialization\n",
    "init_model(model_name='resnet', num_classes=10, feature_extract=False, use_pretrained=True)\n",
    "init_epoch()\n",
    "init_log()\n",
    "\n",
    "# Training Iteration\n",
    "while epoch_not_finished():\n",
    "    start_time = time.time()\n",
    "    tloss, tacc = epoch(train_loader)\n",
    "    end_time = time.time()\n",
    "    time_taken = end_time - start_time\n",
    "    record_train_log(tloss, tacc, time_taken)\n",
    "    with torch.no_grad():\n",
    "        vloss, vacc = epoch(valid_loader)\n",
    "        record_valid_log(vloss, vacc)\n",
    "    print_log()\n",
    "    \n",
    "print('\\n Training completed!')"
   ]
  },
  {
   "cell_type": "code",
   "execution_count": 9,
   "metadata": {
    "scrolled": false
   },
   "outputs": [
    {
     "name": "stdout",
     "output_type": "stream",
     "text": [
      "torch.Size([3745])\n"
     ]
    }
   ],
   "source": [
    "# Save prediction vector to CSV file\n",
    "\n",
    "# Before run this code, here put your save path (only for local server not kaggle kernel)\n",
    "save_root = './test_pred_final100.csv'   # <--- only edit this path\n",
    "\n",
    "# After run this code, you must check that the shape of 'out' variable is 3745. (out.shape == 3745)\n",
    "\n",
    "\n",
    "# ============================== Do not edit under this line ==========================================\n",
    "for _data in test_loader:\n",
    "    data = _data.to(device)\n",
    "\n",
    "    # 1. Feed-forward\n",
    "    onehot_out = net(data)\n",
    "    _, out = torch.max(onehot_out, 1)\n",
    "    \n",
    "print(out.shape)\n",
    "\n",
    "import csv\n",
    "\n",
    "# 덮어쓰기 방지를 위해 이미 파일이 존재하면 삭제\n",
    "if os.path.isfile(save_root):\n",
    "    os.remove(save_root)\n",
    "\n",
    "# 첫 행에 'id' 'lable' 그 다음 행부터 idx와 label 넣어서 csv 저장\n",
    "for idx, pred in enumerate(list(out.cpu())):\n",
    "    with open(save_root, 'a', newline='') as f:\n",
    "        writer = csv.writer(f)\n",
    "        if idx == 0:\n",
    "            writer.writerow(['id', 'label'])\n",
    "        pred = np.concatenate(([idx], [pred]))\n",
    "        writer.writerow(pred)\n",
    "# ============================== Do not edit over this line =========================================="
   ]
  },
  {
   "cell_type": "code",
   "execution_count": null,
   "metadata": {},
   "outputs": [],
   "source": []
  },
  {
   "cell_type": "code",
   "execution_count": null,
   "metadata": {},
   "outputs": [],
   "source": []
  }
 ],
 "metadata": {
  "kernelspec": {
   "display_name": "AIBD",
   "language": "python",
   "name": "aibd"
  },
  "language_info": {
   "codemirror_mode": {
    "name": "ipython",
    "version": 3
   },
   "file_extension": ".py",
   "mimetype": "text/x-python",
   "name": "python",
   "nbconvert_exporter": "python",
   "pygments_lexer": "ipython3",
   "version": "3.8.8"
  }
 },
 "nbformat": 4,
 "nbformat_minor": 4
}
